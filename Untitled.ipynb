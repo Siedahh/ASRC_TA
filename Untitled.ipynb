{
 "cells": [
  {
   "cell_type": "code",
   "execution_count": 1,
   "id": "2e83fa9f",
   "metadata": {},
   "outputs": [],
   "source": [
    "import numpy as np\n",
    "import h5py\n",
    "import os\n",
    "import matplotlib.pyplot as plt\n"
   ]
  },
  {
   "cell_type": "code",
   "execution_count": 2,
   "id": "3caa92d3",
   "metadata": {},
   "outputs": [],
   "source": [
    "f = h5py.File('default_datafile_2.hdf5','r')"
   ]
  },
  {
   "cell_type": "code",
   "execution_count": 23,
   "id": "ecfee875",
   "metadata": {},
   "outputs": [
    {
     "data": {
      "text/plain": [
       "array([[ 0.00000000e+00,  4.11691542e+02,  4.12686567e+02, ...,\n",
       "         2.44651741e+03,  2.44751244e+03,  2.44850746e+03],\n",
       "       [-1.00000000e+02, -1.13607184e-02, -1.30806895e-02, ...,\n",
       "         2.97771733e-02,  3.85474674e-02,  1.29532640e-02],\n",
       "       [ 0.00000000e+00, -1.15915806e-02, -1.29398374e-02, ...,\n",
       "         2.94884532e-02,  3.80214369e-02,  1.28648777e-02],\n",
       "       ...,\n",
       "       [ 3.00000000e+02, -1.11025467e-02, -1.30195109e-02, ...,\n",
       "         2.98703429e-02,  3.64695305e-02,  1.21178048e-02],\n",
       "       [ 4.00000000e+02, -1.15719523e-02, -1.28683982e-02, ...,\n",
       "         2.92666273e-02,  3.63356554e-02,  1.16031617e-02],\n",
       "       [ 5.00000000e+02, -1.15208469e-02, -1.28475693e-02, ...,\n",
       "         2.93642987e-02,  3.57810790e-02,  1.16919970e-02]])"
      ]
     },
     "execution_count": 23,
     "metadata": {},
     "output_type": "execute_result"
    }
   ],
   "source": [
    "avg_data = np.array(f['Average'])\n",
    "avg_data"
   ]
  },
  {
   "cell_type": "code",
   "execution_count": 11,
   "id": "a019dc65",
   "metadata": {},
   "outputs": [
    {
     "data": {
      "text/plain": [
       "(2049,)"
      ]
     },
     "execution_count": 11,
     "metadata": {},
     "output_type": "execute_result"
    }
   ],
   "source": [
    "bg = np.mean(avg_data,axis=0)\n",
    "bg.shape"
   ]
  },
  {
   "cell_type": "code",
   "execution_count": 12,
   "id": "0f3d18f6",
   "metadata": {
    "scrolled": true
   },
   "outputs": [
    {
     "ename": "NameError",
     "evalue": "name 'avgdata' is not defined",
     "output_type": "error",
     "traceback": [
      "\u001b[1;31m---------------------------------------------------------------------------\u001b[0m",
      "\u001b[1;31mNameError\u001b[0m                                 Traceback (most recent call last)",
      "Input \u001b[1;32mIn [12]\u001b[0m, in \u001b[0;36m<module>\u001b[1;34m\u001b[0m\n\u001b[0;32m      1\u001b[0m \u001b[38;5;28;01mfor\u001b[39;00m i \u001b[38;5;129;01min\u001b[39;00m \u001b[38;5;28mrange\u001b[39m(\u001b[38;5;28mlen\u001b[39m(avg_data[:,\u001b[38;5;241m0\u001b[39m])):\n\u001b[0;32m      2\u001b[0m \tavg_data[i,:] \u001b[38;5;241m=\u001b[39m avg_data[i,:] \u001b[38;5;241m-\u001b[39m bg\n\u001b[1;32m----> 3\u001b[0m \u001b[43mavgdata\u001b[49m\n",
      "\u001b[1;31mNameError\u001b[0m: name 'avgdata' is not defined"
     ]
    }
   ],
   "source": [
    "for i in range(len(avg_data[:,0])):\n",
    "\tavg_data[i,:] = avg_data[i,:] - bg\n"
   ]
  },
  {
   "cell_type": "code",
   "execution_count": 15,
   "id": "0931e8ff",
   "metadata": {},
   "outputs": [
    {
     "data": {
      "text/plain": [
       "(8, 2049)"
      ]
     },
     "execution_count": 15,
     "metadata": {},
     "output_type": "execute_result"
    }
   ],
   "source": [
    "avg_data.shape"
   ]
  },
  {
   "cell_type": "code",
   "execution_count": 21,
   "id": "41bff4c4",
   "metadata": {},
   "outputs": [],
   "source": [
    "pixels = np.linspace(0,2048,2049)"
   ]
  },
  {
   "cell_type": "code",
   "execution_count": 20,
   "id": "7f18f0f4",
   "metadata": {},
   "outputs": [
    {
     "data": {
      "text/plain": [
       "[<matplotlib.lines.Line2D at 0x20c103c51c0>]"
      ]
     },
     "execution_count": 20,
     "metadata": {},
     "output_type": "execute_result"
    },
    {
     "data": {
      "image/png": "[encoded data removed]",
      "text/plain": [
       "<Figure size 432x288 with 1 Axes>"
      ]
     },
     "metadata": {
      "needs_background": "light"
     },
     "output_type": "display_data"
    }
   ],
   "source": [
    "fig1,ax = plt.subplots()\n",
    "ax.plot(np.linspace(0,2048,2049),avg_data[2,:])"
   ]
  },
  {
   "cell_type": "code",
   "execution_count": 22,
   "id": "a7861020",
   "metadata": {},
   "outputs": [
    {
     "data": {
      "text/plain": [
       "[<matplotlib.lines.Line2D at 0x20c1041e550>]"
      ]
     },
     "execution_count": 22,
     "metadata": {},
     "output_type": "execute_result"
    },
    {
     "data": {
      "image/png": "[encoded data removed]",
      "text/plain": [
       "<Figure size 432x288 with 1 Axes>"
      ]
     },
     "metadata": {
      "needs_background": "light"
     },
     "output_type": "display_data"
    }
   ],
   "source": [
    "plt.figure()\n",
    "plt.plot(pixels,bg)"
   ]
  },
  {
   "cell_type": "code",
   "execution_count": null,
   "id": "4c5e2498",
   "metadata": {},
   "outputs": [],
   "source": [
    "f.close()"
   ]
  },
  {
   "cell_type": "code",
   "execution_count": null,
   "id": "e9f632e1",
   "metadata": {},
   "outputs": [],
   "source": []
  }
 ],
 "metadata": {
  "kernelspec": {
   "display_name": "Python 3 (ipykernel)",
   "language": "python",
   "name": "python3"
  },
  "language_info": {
   "codemirror_mode": {
    "name": "ipython",
    "version": 3
   },
   "file_extension": ".py",
   "mimetype": "text/x-python",
   "name": "python",
   "nbconvert_exporter": "python",
   "pygments_lexer": "ipython3",
   "version": "3.8.10"
  }
 },
 "nbformat": 4,
 "nbformat_minor": 5
}
